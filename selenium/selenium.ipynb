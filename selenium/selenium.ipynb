{
 "cells": [
  {
   "cell_type": "markdown",
   "metadata": {},
   "source": [
    "## Web Scraping com Selenium \n",
    "\n",
    "### O que é  o Selenium?\n",
    "\n",
    "Biblioteca em python voltada a simular interações de um usuário em um navegador web.\n",
    "\n",
    "### Por que usar o Selenium?\n",
    "\n",
    "O Selenium é uma ferramenta muito poderosa para web scraping, pois ele permite que você acesse páginas que são carregadas dinamicamente, ou seja, que são carregadas após a página inicial ser carregada.\n",
    "\n",
    "### Quando usar o Selenium?\n",
    "\n",
    "- Interagir com páginas que são carregadas dinamicamente;\n",
    "- Localizar elementos por XPath;\n",
    "- Extrair dados de páginas que são carregadas dinamicamente.\n",
    "\n",
    "### Como instalar o Selenium?\n",
    "\n",
    "Para instalar o Selenium, basta rodar o comando abaixo:\n",
    "\n",
    "```python\n",
    "!pip install selenium\n",
    "```"
   ]
  },
  {
   "cell_type": "code",
   "execution_count": 18,
   "metadata": {},
   "outputs": [],
   "source": [
    "from selenium import webdriver\n",
    "\n",
    "# Create a new instance of the Firefox driver\n",
    "driver = webdriver.Chrome()\n",
    "\n",
    "driver.get(\"http://www.sigaa.unb.br/sigaa/verTelaLogin.do\")\n",
    "\n",
    "driver.quit()"
   ]
  },
  {
   "cell_type": "markdown",
   "metadata": {},
   "source": [
    "## Como Loaclizar e Interagir com Elementos web com Selenium\n",
    "\n",
    "### Como Localizar:\n",
    "\n",
    "- Por ID\n",
    "- Por Name\n",
    "- Por XPath\n",
    "- Por CSS Selector\n",
    "- Por Classe\n",
    "\n",
    "## Métodos:\n",
    "\n",
    "- antigo = driver.find_element_by_*\n",
    "- novo = driver.find_element\n",
    "\n",
    "### Exemplo: \n",
    "\n",
    "Encontrar os telefones disponiveis nesse site: https://webscraper.io/test-sites/e-commerce/allinone/phones"
   ]
  },
  {
   "cell_type": "code",
   "execution_count": 1,
   "metadata": {},
   "outputs": [
    {
     "name": "stdout",
     "output_type": "stream",
     "text": [
      "Nokia X\n",
      "LG Optimus\n",
      "Iphone\n"
     ]
    }
   ],
   "source": [
    "from selenium import webdriver\n",
    "from selenium.webdriver.common.by import By\n",
    "\n",
    "\n",
    "driver = webdriver.Chrome()\n",
    "\n",
    "driver.get(\"https://webscraper.io/test-sites/e-commerce/allinone/phones\")\n",
    "\n",
    "lista_telefones = driver.find_elements(By.CLASS_NAME, \"title\")\n",
    "\n",
    "for telefones in lista_telefones:\n",
    "    print(telefones.text)\n",
    "\n",
    "driver.quit()"
   ]
  },
  {
   "cell_type": "markdown",
   "metadata": {},
   "source": [
    "### Como interagir? \n",
    "\n",
    "- send keys - enviar texto\n",
    "- click - clicar\n",
    "- select - selecionar\n",
    "- submit - enviar formulário"
   ]
  },
  {
   "cell_type": "markdown",
   "metadata": {},
   "source": [
    "### Exemplo:\n",
    "Encontrar os computadores disponiveis nesse site: https://webscraper.io/test-sites/e-commerce/allinone/phones"
   ]
  },
  {
   "cell_type": "code",
   "execution_count": 30,
   "metadata": {},
   "outputs": [],
   "source": [
    "from selenium import webdriver\n",
    "from selenium.webdriver.common.by import By\n",
    "\n",
    "\n",
    "driver = webdriver.Chrome()\n",
    "\n",
    "driver.get(\"https://webscraper.io/test-sites/e-commerce/allinone/phones\")\n",
    "\n",
    "tela_laptops = driver.find_element(By.XPATH, '//*[@id=\"side-menu\"]/li[2]/a')\n",
    "tela_laptops.click()\n",
    "\n",
    "lista_laptops = driver.find_elements(By.XPATH, '//*[@id=\"side-menu\"]/li[2]/ul/li[1]/a')\n",
    "\n",
    "driver.quit()"
   ]
  },
  {
   "cell_type": "markdown",
   "metadata": {},
   "source": [
    "### Explorando as capacidades de automação de interações com o selenium\n",
    "\n",
    "### Live coding -> https://quotes.toscrape.com/\n",
    "\n",
    "\n",
    "- Login\n",
    "- Filtro\n",
    "- Paginação \n",
    "- Localizar elemento"
   ]
  },
  {
   "cell_type": "code",
   "execution_count": 12,
   "metadata": {},
   "outputs": [
    {
     "name": "stdout",
     "output_type": "stream",
     "text": [
      "“I am free of all prejudice. I hate everyone equally. ”\n"
     ]
    }
   ],
   "source": [
    "from selenium import  webdriver\n",
    "from selenium.webdriver.common.by import By\n",
    "\n",
    "driver = webdriver.Chrome()\n",
    "\n",
    "driver.get(\"https://quotes.toscrape.com/\")\n",
    "login = driver.find_element(By.XPATH, '/html/body/div/div[1]/div[2]/p/a')\n",
    "login.click()\n",
    "driver.get(\"https://quotes.toscrape.com/login\")\n",
    "username = driver.find_element(By.ID, 'username')\n",
    "username.send_keys(\"admin\")\n",
    "password = driver.find_element(By.ID, 'password')\n",
    "password.send_keys(\"admin\")\n",
    "login = driver.find_element(By.XPATH, '/html/body/div/form/input[2]')\n",
    "login.click()\n",
    "\n",
    "humor = driver.find_element(By.XPATH, '/html/body/div/div[2]/div[2]/span[4]/a')\n",
    "humor.click()\n",
    "\n",
    "botao_next = driver.find_element(By.XPATH, '/html/body/div/div[2]/div[1]/nav/ul/li/a')\n",
    "botao_next.click()\n",
    "\n",
    "texto = driver.find_element(By.CSS_SELECTOR , 'body > div > div:nth-child(3) > div.col-md-8 > div:nth-child(1) > span.text').text\n",
    "print (texto)"
   ]
  },
  {
   "cell_type": "markdown",
   "metadata": {},
   "source": [
    "### Lidando com temas mais avançados com Selenium\n",
    "\n",
    "Com Selenium podemos simular interações mais complexas de usuário, em páginas web, como:\n",
    "\n",
    "- Cookies personalizados;\n",
    "- Requisições AJAX;\n",
    "- Lazy loading;\n",
    "- Carregamento condicionado;\n",
    "- Timeout.\n",
    "\n"
   ]
  },
  {
   "cell_type": "code",
   "execution_count": null,
   "metadata": {},
   "outputs": [],
   "source": []
  },
  {
   "cell_type": "code",
   "execution_count": null,
   "metadata": {},
   "outputs": [],
   "source": [
    "C"
   ]
  }
 ],
 "metadata": {
  "kernelspec": {
   "display_name": "Python 3",
   "language": "python",
   "name": "python3"
  },
  "language_info": {
   "codemirror_mode": {
    "name": "ipython",
    "version": 3
   },
   "file_extension": ".py",
   "mimetype": "text/x-python",
   "name": "python",
   "nbconvert_exporter": "python",
   "pygments_lexer": "ipython3",
   "version": "3.10.12"
  }
 },
 "nbformat": 4,
 "nbformat_minor": 2
}
