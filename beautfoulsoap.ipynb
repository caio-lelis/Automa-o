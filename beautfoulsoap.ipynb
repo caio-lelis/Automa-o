{
 "cells": [
  {
   "cell_type": "code",
   "execution_count": 18,
   "metadata": {},
   "outputs": [
    {
     "name": "stdout",
     "output_type": "stream",
     "text": [
      "Defaulting to user installation because normal site-packages is not writeable\n",
      "Requirement already satisfied: beautifulsoup4 in /home/caio-lelis/.local/lib/python3.10/site-packages (4.12.3)\n",
      "Requirement already satisfied: soupsieve>1.2 in /home/caio-lelis/.local/lib/python3.10/site-packages (from beautifulsoup4) (2.5)\n",
      "<!DOCTYPE html>\n",
      "<html>\n",
      " <head>\n",
      "  <title>\n",
      "   Exemplo de HTML\n",
      "  </title>\n",
      " </head>\n",
      " <body>\n",
      "  <h1>\n",
      "   Olá, mundo!\n",
      "  </h1>\n",
      "  <p>\n",
      "   Este é um exemplo de código HTML.\n",
      "  </p>\n",
      "  <p>\n",
      "   Google.\n",
      "  </p>\n",
      "  <p>\n",
      "   Bing.\n",
      "  </p>\n",
      " </body>\n",
      "</html>\n",
      "\n"
     ]
    }
   ],
   "source": [
    "!pip3 install beautifulsoup4\n",
    "\n",
    "from bs4 import BeautifulSoup\n",
    "\n",
    "\n",
    "html_code = '''\n",
    "<!DOCTYPE html>\n",
    "<html>\n",
    "<head>\n",
    "    <title>Exemplo de HTML</title>\n",
    "</head>\n",
    "<body>\n",
    "    <h1>Olá, mundo!</h1>\n",
    "    <p>Este é um exemplo de código HTML.</p>\n",
    "    <p> Google.</p>\n",
    "    <p> Bing.</p>\n",
    "</body>\n",
    "</html>\n",
    "'''\n",
    "\n",
    "\n",
    "html_parsed = BeautifulSoup (html_code, 'html.parser')\n",
    "\n",
    "print(html_parsed.prettify())"
   ]
  },
  {
   "cell_type": "markdown",
   "metadata": {},
   "source": [
    "## Métodos pincipais do BeautifulSoup\n",
    "\n",
    "### find_all() -> retorna uma lista com todos os elementos que atendem a condição passada\n",
    "### find() -> retorna o primeiro elemento que atende a condição passada"
   ]
  },
  {
   "cell_type": "code",
   "execution_count": 19,
   "metadata": {},
   "outputs": [
    {
     "data": {
      "text/plain": [
       "[<p>Este é um exemplo de código HTML.</p>, <p> Google.</p>, <p> Bing.</p>]"
      ]
     },
     "execution_count": 19,
     "metadata": {},
     "output_type": "execute_result"
    }
   ],
   "source": [
    "#html_parsed.find('h1')\n",
    "\n",
    "html_parsed.find_all(\"p\")\n"
   ]
  },
  {
   "cell_type": "code",
   "execution_count": null,
   "metadata": {},
   "outputs": [],
   "source": []
  },
  {
   "cell_type": "code",
   "execution_count": null,
   "metadata": {},
   "outputs": [],
   "source": []
  }
 ],
 "metadata": {
  "kernelspec": {
   "display_name": "Python 3",
   "language": "python",
   "name": "python3"
  },
  "language_info": {
   "codemirror_mode": {
    "name": "ipython",
    "version": 3
   },
   "file_extension": ".py",
   "mimetype": "text/x-python",
   "name": "python",
   "nbconvert_exporter": "python",
   "pygments_lexer": "ipython3",
   "version": "3.10.12"
  }
 },
 "nbformat": 4,
 "nbformat_minor": 2
}
